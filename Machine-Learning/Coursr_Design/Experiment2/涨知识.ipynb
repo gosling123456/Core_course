{
 "cells": [
  {
   "cell_type": "markdown",
   "source": [
    "### 1.iter生成可迭代对象（可迭代对象指的是像list,truple)"
   ],
   "metadata": {
    "collapsed": false,
    "pycharm": {
     "name": "#%% md\n"
    }
   }
  },
  {
   "cell_type": "code",
   "execution_count": 1,
   "outputs": [
    {
     "name": "stdout",
     "output_type": "stream",
     "text": [
      "1\n",
      "2\n",
      "3\n",
      "4\n",
      "5\n"
     ]
    }
   ],
   "source": [
    "#Python中可迭代对象(Iterable)并不是指某种具体的数据类型，它是指存储了元素的一个容器对象，\n",
    "# 且容器中的元素可以通过__iter__( )方法或__getitem__( )方法访问。\n",
    "# 首先获得Iteration对象\n",
    "it = iter([1,2,3,4,5])\n",
    "# 循环\n",
    "while True:\n",
    "    try:\n",
    "        # 获得下一个值\n",
    "        x = next(it)\n",
    "        print(x)\n",
    "    except StopIteration:\n",
    "        # 遇到StopIteration就退出循环\n",
    "        break"
   ],
   "metadata": {
    "collapsed": false,
    "pycharm": {
     "name": "#%%\n"
    }
   }
  },
  {
   "cell_type": "markdown",
   "source": [
    "### 进度条"
   ],
   "metadata": {
    "collapsed": false,
    "pycharm": {
     "name": "#%% md\n"
    }
   }
  },
  {
   "cell_type": "code",
   "execution_count": 1,
   "outputs": [
    {
     "name": "stderr",
     "output_type": "stream",
     "text": [
      "100%|██████████| 10/10 [00:00<?, ?it/s]"
     ]
    },
    {
     "name": "stdout",
     "output_type": "stream",
     "text": [
      "0\n",
      "1\n",
      "2\n",
      "3\n",
      "4\n",
      "5\n",
      "6\n",
      "7\n",
      "8\n",
      "9\n"
     ]
    },
    {
     "name": "stderr",
     "output_type": "stream",
     "text": [
      "\n"
     ]
    }
   ],
   "source": [
    "from tqdm import tqdm\n",
    "\n",
    "for i in tqdm(range(10)):\n",
    "     #do something\n",
    "     print(i)\n",
    "     pass"
   ],
   "metadata": {
    "collapsed": false,
    "pycharm": {
     "name": "#%%\n"
    }
   }
  },
  {
   "cell_type": "markdown",
   "source": [
    "### 两个列表同序打乱"
   ],
   "metadata": {
    "collapsed": false,
    "pycharm": {
     "name": "#%% md\n"
    }
   }
  },
  {
   "cell_type": "code",
   "execution_count": 3,
   "outputs": [
    {
     "name": "stdout",
     "output_type": "stream",
     "text": [
      "[1, 2, 4, 5, 3]\n",
      "['a', 'b', 'd', 'e', 'c']\n"
     ]
    }
   ],
   "source": [
    "import random\n",
    "XX_train=[1,2,3,4,5]\n",
    "Y_train= ['a','b','c','d','e']\n",
    "c = list(zip(XX_train,Y_train))\n",
    "random.shuffle(c)\n",
    "XX_train, Y_train = zip(*c)\n",
    "XX_train, Y_train = list(XX_train),list(Y_train)\n",
    "print(XX_train)\n",
    "print(Y_train)"
   ],
   "metadata": {
    "collapsed": false,
    "pycharm": {
     "name": "#%%\n"
    }
   }
  },
  {
   "cell_type": "markdown",
   "source": [
    "### 图片——>视频"
   ],
   "metadata": {
    "collapsed": false,
    "pycharm": {
     "name": "#%% md\n"
    }
   }
  },
  {
   "cell_type": "code",
   "execution_count": 18,
   "outputs": [
    {
     "name": "stdout",
     "output_type": "stream",
     "text": [
      "视频保存成功\n"
     ]
    }
   ],
   "source": [
    "import os\n",
    "import cv2\n",
    "import random\n",
    "# 要被合成的多张图片所在文件夹\n",
    "# 路径分隔符最好使用“/”,而不是“\\”,“\\”本身有转义的意思；或者“\\\\”也可以。\n",
    "# 因为是文件夹，所以最后还要有一个“/”\n",
    "file_dir = 'validation/food/'\n",
    "list_pic = []\n",
    "for root ,dirs, files in os.walk(file_dir):\n",
    "    for file in files:\n",
    "        list_pic.append(file_dir+file)      # 获取目录下文件名列表\n",
    "\n",
    "file_dir = 'validation/non_food/'\n",
    "for root ,dirs, files in os.walk(file_dir):\n",
    "    for file in files:\n",
    "        list_pic.append(file_dir+file)\n",
    "random.shuffle(list_pic)\n",
    "\n",
    "# VideoWriter是cv2库提供的视频保存方法，将合成的视频保存到该路径中\n",
    "# 'MJPG'意思是支持jpg格式图片\n",
    "# fps = 5代表视频的帧频为5，如果图片不多，帧频最好设置的小一点\n",
    "# (1280,720)是生成的视频像素1280*720，一般要与所使用的图片像素大小一致，否则生成的视频无法播放\n",
    "# 定义保存视频目录名称和压缩格式，像素为1280*720\n",
    "video = cv2.VideoWriter('videos/test.avi',cv2.VideoWriter_fourcc(*'MJPG'),5,(1280,720))\n",
    "\n",
    "for i in range(1,len(list_pic)):\n",
    "    #读取图片\n",
    "    img = cv2.imread(list_pic[i-1])\n",
    "   \t# resize方法是cv2库提供的更改像素大小的方法\n",
    "    # 将图片转换为1280*720像素大小\n",
    "    img = cv2.resize(img,(1280,720))\n",
    "    # 写入视频\n",
    "    video.write(img)\n",
    "\n",
    "# 释放资源\n",
    "video.release()\n",
    "print('视频保存成功')"
   ],
   "metadata": {
    "collapsed": false,
    "pycharm": {
     "name": "#%%\n"
    }
   }
  },
  {
   "cell_type": "markdown",
   "source": [
    "### 装饰器"
   ],
   "metadata": {
    "collapsed": false,
    "pycharm": {
     "name": "#%% md\n"
    }
   }
  },
  {
   "cell_type": "code",
   "execution_count": 22,
   "outputs": [
    {
     "name": "stderr",
     "output_type": "stream",
     "text": [
      "[method test_empty_parameter] cost: 1.0100302696228027s, param:().\n",
      "[method test_many_parameter] cost: 2.004143714904785s, param:(1, 'hello', [1, 2, 'h'], {1: 'a', 2: 'b', 3: 'c', 4: 'd'}).\n",
      "[method test_key_parameter] cost: 3.0117409229278564s, param:(1, 'hello').\n"
     ]
    },
    {
     "name": "stdout",
     "output_type": "stream",
     "text": [
      "1\n",
      "2\n",
      "3\n"
     ]
    }
   ],
   "source": [
    "import functools\n",
    "import time\n",
    "import logging\n",
    "\n",
    "logger = logging.getLogger(__name__)\n",
    "\n",
    "\n",
    "# 利用装饰器打印日志\n",
    "def method_metric(func):\n",
    "    @functools.wraps(func)\n",
    "    def wrapper(*args, **kw):\n",
    "        start = time.time()\n",
    "        try:\n",
    "            return func(*args, **kw)\n",
    "        finally:\n",
    "            # 用于统计方法耗时\n",
    "            logger.info('[method {}] cost: {}s, param:{}.'.format(func.__name__, time.time() - start, args))\n",
    "\n",
    "    return wrapper\n",
    "\n",
    "\n",
    "@method_metric\n",
    "def test_empty_parameter():\n",
    "    time.sleep(1)\n",
    "    return 1\n",
    "\n",
    "\n",
    "@method_metric\n",
    "def test_many_parameter(a_int, b_string, c_list, d_dict):\n",
    "    time.sleep(2)\n",
    "    return 2\n",
    "\n",
    "\n",
    "@method_metric\n",
    "def test_key_parameter(a='www', b=1, c=[1, 2]):\n",
    "    time.sleep(3)\n",
    "    return 3\n",
    "\n",
    "\n",
    "class MetricDemo:\n",
    "    @method_metric\n",
    "    def __init__(self):\n",
    "        time.sleep(1)\n",
    "        print(\"init test\")\n",
    "\n",
    "\n",
    "if __name__ == \"__main__\":\n",
    "    logger.setLevel('DEBUG')\n",
    "    ch = logging.StreamHandler()\n",
    "    logger.addHandler(ch)\n",
    "\n",
    "    r1 = test_empty_parameter()\n",
    "    r2 = test_many_parameter(1, 'hello', [1, 2, 'h'], {1: 'a', 2: 'b', 3: 'c', 4: 'd'})\n",
    "    r3 = test_key_parameter(1, 'hello', c=[5, 6])\n",
    "    print(r1)\n",
    "    print(r2)\n",
    "    print(r3)"
   ],
   "metadata": {
    "collapsed": false,
    "pycharm": {
     "name": "#%%\n"
    }
   }
  },
  {
   "cell_type": "markdown",
   "source": [
    "### 检查数据集"
   ],
   "metadata": {
    "collapsed": false,
    "pycharm": {
     "name": "#%% md\n"
    }
   }
  },
  {
   "cell_type": "code",
   "execution_count": 29,
   "outputs": [
    {
     "name": "stdout",
     "output_type": "stream",
     "text": [
      "True\n"
     ]
    }
   ],
   "source": [
    "a = {'1':1,'2':2,'3':3,'4':4}\n",
    "print(list(a.values()) == [1,2,3,4])"
   ],
   "metadata": {
    "collapsed": false,
    "pycharm": {
     "name": "#%%\n"
    }
   }
  },
  {
   "cell_type": "markdown",
   "source": [
    "### 修改文件名"
   ],
   "metadata": {
    "collapsed": false,
    "pycharm": {
     "name": "#%% md\n"
    }
   }
  },
  {
   "cell_type": "code",
   "execution_count": null,
   "outputs": [],
   "source": [
    "import os\n",
    "import random\n",
    "\n",
    "pre = os.getcwd()+'/' + 'non_food/'\n",
    "filelist = os.listdir('non_food')\n",
    "random.shuffle(filelist)\n",
    "cnt = 0\n",
    "for i in filelist:\n",
    "    print(i)\n",
    "    os.rename(pre+i,pre+'%s.jpg'%str(cnt))\n",
    "    cnt += 1"
   ],
   "metadata": {
    "collapsed": false,
    "pycharm": {
     "name": "#%%\n"
    }
   }
  },
  {
   "cell_type": "markdown",
   "source": [
    "### 精确率"
   ],
   "metadata": {
    "collapsed": false,
    "pycharm": {
     "name": "#%% md\n"
    }
   }
  },
  {
   "cell_type": "code",
   "execution_count": null,
   "outputs": [],
   "source": [],
   "metadata": {
    "collapsed": false,
    "pycharm": {
     "name": "#%%\n"
    }
   }
  }
 ],
 "metadata": {
  "kernelspec": {
   "display_name": "Python 3",
   "language": "python",
   "name": "python3"
  },
  "language_info": {
   "codemirror_mode": {
    "name": "ipython",
    "version": 2
   },
   "file_extension": ".py",
   "mimetype": "text/x-python",
   "name": "python",
   "nbconvert_exporter": "python",
   "pygments_lexer": "ipython2",
   "version": "2.7.6"
  }
 },
 "nbformat": 4,
 "nbformat_minor": 0
}