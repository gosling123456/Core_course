{
 "cells": [
  {
   "cell_type": "code",
   "execution_count": 42,
   "outputs": [],
   "source": [
    "import pandas as pd"
   ],
   "metadata": {
    "collapsed": false,
    "pycharm": {
     "name": "#%%\n"
    }
   }
  },
  {
   "cell_type": "code",
   "execution_count": 51,
   "outputs": [
    {
     "data": {
      "text/plain": "         home_team       away_team  home_score  away_score\n0            Qatar         Ecuador         0.0         2.0\n1          England         IR Iran         6.0         2.0\n2    United States           Wales         1.0         1.0\n3          Senegal     Netherlands         0.0         2.0\n4           France       Australia         4.0         1.0\n5           Mexico          Poland         0.0         0.0\n6          Denmark         Tunisia         0.0         0.0\n7        Argentina    Saudi Arabia         1.0         2.0\n8          Belgium          Canada         1.0         0.0\n9            Spain      Costa Rica         7.0         0.0\n10         Germany           Japan         1.0         2.0\n11         Morocco         Croatia         0.0         0.0\n12     Switzerland        Cameroon         NaN         NaN\n13         Uruguay  Korea Republic         NaN         NaN\n14        Portugal           Ghana         NaN         NaN\n15          Brazil          Serbia         NaN         NaN\n16         England   United States         NaN         NaN\n17     Netherlands         Ecuador         NaN         NaN\n18           Qatar         Senegal         NaN         NaN\n19           Wales         IR Iran         NaN         NaN\n20         Tunisia       Australia         NaN         NaN\n21       Argentina          Mexico         NaN         NaN\n22          France         Denmark         NaN         NaN\n23          Poland    Saudi Arabia         NaN         NaN\n24           Spain         Germany         NaN         NaN\n25         Belgium         Morocco         NaN         NaN\n26           Japan      Costa Rica         NaN         NaN\n27         Croatia          Canada         NaN         NaN\n28        Portugal         Uruguay         NaN         NaN\n29          Brazil     Switzerland         NaN         NaN\n30  Korea Republic           Ghana         NaN         NaN\n31        Cameroon          Serbia         NaN         NaN\n32         IR Iran   United States         NaN         NaN\n33           Wales         England         NaN         NaN\n34         Ecuador         Senegal         NaN         NaN\n35     Netherlands           Qatar         NaN         NaN\n36         Tunisia          France         NaN         NaN\n37    Saudi Arabia          Mexico         NaN         NaN\n38          Poland       Argentina         NaN         NaN\n39       Australia         Denmark         NaN         NaN\n40      Costa Rica         Germany         NaN         NaN\n41           Japan           Spain         NaN         NaN\n42         Croatia         Belgium         NaN         NaN\n43          Canada         Morocco         NaN         NaN\n44        Cameroon          Brazil         NaN         NaN\n45          Serbia     Switzerland         NaN         NaN\n46           Ghana         Uruguay         NaN         NaN\n47  Korea Republic        Portugal         NaN         NaN",
      "text/html": "<div>\n<style scoped>\n    .dataframe tbody tr th:only-of-type {\n        vertical-align: middle;\n    }\n\n    .dataframe tbody tr th {\n        vertical-align: top;\n    }\n\n    .dataframe thead th {\n        text-align: right;\n    }\n</style>\n<table border=\"1\" class=\"dataframe\">\n  <thead>\n    <tr style=\"text-align: right;\">\n      <th></th>\n      <th>home_team</th>\n      <th>away_team</th>\n      <th>home_score</th>\n      <th>away_score</th>\n    </tr>\n  </thead>\n  <tbody>\n    <tr>\n      <th>0</th>\n      <td>Qatar</td>\n      <td>Ecuador</td>\n      <td>0.0</td>\n      <td>2.0</td>\n    </tr>\n    <tr>\n      <th>1</th>\n      <td>England</td>\n      <td>IR Iran</td>\n      <td>6.0</td>\n      <td>2.0</td>\n    </tr>\n    <tr>\n      <th>2</th>\n      <td>United States</td>\n      <td>Wales</td>\n      <td>1.0</td>\n      <td>1.0</td>\n    </tr>\n    <tr>\n      <th>3</th>\n      <td>Senegal</td>\n      <td>Netherlands</td>\n      <td>0.0</td>\n      <td>2.0</td>\n    </tr>\n    <tr>\n      <th>4</th>\n      <td>France</td>\n      <td>Australia</td>\n      <td>4.0</td>\n      <td>1.0</td>\n    </tr>\n    <tr>\n      <th>5</th>\n      <td>Mexico</td>\n      <td>Poland</td>\n      <td>0.0</td>\n      <td>0.0</td>\n    </tr>\n    <tr>\n      <th>6</th>\n      <td>Denmark</td>\n      <td>Tunisia</td>\n      <td>0.0</td>\n      <td>0.0</td>\n    </tr>\n    <tr>\n      <th>7</th>\n      <td>Argentina</td>\n      <td>Saudi Arabia</td>\n      <td>1.0</td>\n      <td>2.0</td>\n    </tr>\n    <tr>\n      <th>8</th>\n      <td>Belgium</td>\n      <td>Canada</td>\n      <td>1.0</td>\n      <td>0.0</td>\n    </tr>\n    <tr>\n      <th>9</th>\n      <td>Spain</td>\n      <td>Costa Rica</td>\n      <td>7.0</td>\n      <td>0.0</td>\n    </tr>\n    <tr>\n      <th>10</th>\n      <td>Germany</td>\n      <td>Japan</td>\n      <td>1.0</td>\n      <td>2.0</td>\n    </tr>\n    <tr>\n      <th>11</th>\n      <td>Morocco</td>\n      <td>Croatia</td>\n      <td>0.0</td>\n      <td>0.0</td>\n    </tr>\n    <tr>\n      <th>12</th>\n      <td>Switzerland</td>\n      <td>Cameroon</td>\n      <td>NaN</td>\n      <td>NaN</td>\n    </tr>\n    <tr>\n      <th>13</th>\n      <td>Uruguay</td>\n      <td>Korea Republic</td>\n      <td>NaN</td>\n      <td>NaN</td>\n    </tr>\n    <tr>\n      <th>14</th>\n      <td>Portugal</td>\n      <td>Ghana</td>\n      <td>NaN</td>\n      <td>NaN</td>\n    </tr>\n    <tr>\n      <th>15</th>\n      <td>Brazil</td>\n      <td>Serbia</td>\n      <td>NaN</td>\n      <td>NaN</td>\n    </tr>\n    <tr>\n      <th>16</th>\n      <td>England</td>\n      <td>United States</td>\n      <td>NaN</td>\n      <td>NaN</td>\n    </tr>\n    <tr>\n      <th>17</th>\n      <td>Netherlands</td>\n      <td>Ecuador</td>\n      <td>NaN</td>\n      <td>NaN</td>\n    </tr>\n    <tr>\n      <th>18</th>\n      <td>Qatar</td>\n      <td>Senegal</td>\n      <td>NaN</td>\n      <td>NaN</td>\n    </tr>\n    <tr>\n      <th>19</th>\n      <td>Wales</td>\n      <td>IR Iran</td>\n      <td>NaN</td>\n      <td>NaN</td>\n    </tr>\n    <tr>\n      <th>20</th>\n      <td>Tunisia</td>\n      <td>Australia</td>\n      <td>NaN</td>\n      <td>NaN</td>\n    </tr>\n    <tr>\n      <th>21</th>\n      <td>Argentina</td>\n      <td>Mexico</td>\n      <td>NaN</td>\n      <td>NaN</td>\n    </tr>\n    <tr>\n      <th>22</th>\n      <td>France</td>\n      <td>Denmark</td>\n      <td>NaN</td>\n      <td>NaN</td>\n    </tr>\n    <tr>\n      <th>23</th>\n      <td>Poland</td>\n      <td>Saudi Arabia</td>\n      <td>NaN</td>\n      <td>NaN</td>\n    </tr>\n    <tr>\n      <th>24</th>\n      <td>Spain</td>\n      <td>Germany</td>\n      <td>NaN</td>\n      <td>NaN</td>\n    </tr>\n    <tr>\n      <th>25</th>\n      <td>Belgium</td>\n      <td>Morocco</td>\n      <td>NaN</td>\n      <td>NaN</td>\n    </tr>\n    <tr>\n      <th>26</th>\n      <td>Japan</td>\n      <td>Costa Rica</td>\n      <td>NaN</td>\n      <td>NaN</td>\n    </tr>\n    <tr>\n      <th>27</th>\n      <td>Croatia</td>\n      <td>Canada</td>\n      <td>NaN</td>\n      <td>NaN</td>\n    </tr>\n    <tr>\n      <th>28</th>\n      <td>Portugal</td>\n      <td>Uruguay</td>\n      <td>NaN</td>\n      <td>NaN</td>\n    </tr>\n    <tr>\n      <th>29</th>\n      <td>Brazil</td>\n      <td>Switzerland</td>\n      <td>NaN</td>\n      <td>NaN</td>\n    </tr>\n    <tr>\n      <th>30</th>\n      <td>Korea Republic</td>\n      <td>Ghana</td>\n      <td>NaN</td>\n      <td>NaN</td>\n    </tr>\n    <tr>\n      <th>31</th>\n      <td>Cameroon</td>\n      <td>Serbia</td>\n      <td>NaN</td>\n      <td>NaN</td>\n    </tr>\n    <tr>\n      <th>32</th>\n      <td>IR Iran</td>\n      <td>United States</td>\n      <td>NaN</td>\n      <td>NaN</td>\n    </tr>\n    <tr>\n      <th>33</th>\n      <td>Wales</td>\n      <td>England</td>\n      <td>NaN</td>\n      <td>NaN</td>\n    </tr>\n    <tr>\n      <th>34</th>\n      <td>Ecuador</td>\n      <td>Senegal</td>\n      <td>NaN</td>\n      <td>NaN</td>\n    </tr>\n    <tr>\n      <th>35</th>\n      <td>Netherlands</td>\n      <td>Qatar</td>\n      <td>NaN</td>\n      <td>NaN</td>\n    </tr>\n    <tr>\n      <th>36</th>\n      <td>Tunisia</td>\n      <td>France</td>\n      <td>NaN</td>\n      <td>NaN</td>\n    </tr>\n    <tr>\n      <th>37</th>\n      <td>Saudi Arabia</td>\n      <td>Mexico</td>\n      <td>NaN</td>\n      <td>NaN</td>\n    </tr>\n    <tr>\n      <th>38</th>\n      <td>Poland</td>\n      <td>Argentina</td>\n      <td>NaN</td>\n      <td>NaN</td>\n    </tr>\n    <tr>\n      <th>39</th>\n      <td>Australia</td>\n      <td>Denmark</td>\n      <td>NaN</td>\n      <td>NaN</td>\n    </tr>\n    <tr>\n      <th>40</th>\n      <td>Costa Rica</td>\n      <td>Germany</td>\n      <td>NaN</td>\n      <td>NaN</td>\n    </tr>\n    <tr>\n      <th>41</th>\n      <td>Japan</td>\n      <td>Spain</td>\n      <td>NaN</td>\n      <td>NaN</td>\n    </tr>\n    <tr>\n      <th>42</th>\n      <td>Croatia</td>\n      <td>Belgium</td>\n      <td>NaN</td>\n      <td>NaN</td>\n    </tr>\n    <tr>\n      <th>43</th>\n      <td>Canada</td>\n      <td>Morocco</td>\n      <td>NaN</td>\n      <td>NaN</td>\n    </tr>\n    <tr>\n      <th>44</th>\n      <td>Cameroon</td>\n      <td>Brazil</td>\n      <td>NaN</td>\n      <td>NaN</td>\n    </tr>\n    <tr>\n      <th>45</th>\n      <td>Serbia</td>\n      <td>Switzerland</td>\n      <td>NaN</td>\n      <td>NaN</td>\n    </tr>\n    <tr>\n      <th>46</th>\n      <td>Ghana</td>\n      <td>Uruguay</td>\n      <td>NaN</td>\n      <td>NaN</td>\n    </tr>\n    <tr>\n      <th>47</th>\n      <td>Korea Republic</td>\n      <td>Portugal</td>\n      <td>NaN</td>\n      <td>NaN</td>\n    </tr>\n  </tbody>\n</table>\n</div>"
     },
     "execution_count": 51,
     "metadata": {},
     "output_type": "execute_result"
    }
   ],
   "source": [
    "file = 'matches_2022.csv'\n",
    "recent_data = pd.read_csv(file)\n",
    "home_team_name = recent_data[['home_team']]                     # 主队\n",
    "away_team_name = recent_data[['away_team']]                     # 客队\n",
    "home_team_score = recent_data[['home_score']]\n",
    "away_team_score = recent_data[['away_score']]\n",
    "recent_col = pd.concat([home_team_name,away_team_name,home_team_score,away_team_score], axis=1)\n",
    "recent_col"
   ],
   "metadata": {
    "collapsed": false,
    "pycharm": {
     "name": "#%%\n"
    }
   }
  },
  {
   "cell_type": "code",
   "execution_count": 58,
   "outputs": [
    {
     "data": {
      "text/plain": "        home_team     away_team  home_score  away_score label\n0           Qatar       Ecuador         0.0         2.0    失败\n1         England       IR Iran         6.0         2.0    胜利\n2   United States         Wales         1.0         1.0    平局\n3         Senegal   Netherlands         0.0         2.0    失败\n4          France     Australia         4.0         1.0    胜利\n5          Mexico        Poland         0.0         0.0    平局\n6         Denmark       Tunisia         0.0         0.0    平局\n7       Argentina  Saudi Arabia         1.0         2.0    失败\n8         Belgium        Canada         1.0         0.0    胜利\n9           Spain    Costa Rica         7.0         0.0    胜利\n10        Germany         Japan         1.0         2.0    失败\n11        Morocco       Croatia         0.0         0.0    平局",
      "text/html": "<div>\n<style scoped>\n    .dataframe tbody tr th:only-of-type {\n        vertical-align: middle;\n    }\n\n    .dataframe tbody tr th {\n        vertical-align: top;\n    }\n\n    .dataframe thead th {\n        text-align: right;\n    }\n</style>\n<table border=\"1\" class=\"dataframe\">\n  <thead>\n    <tr style=\"text-align: right;\">\n      <th></th>\n      <th>home_team</th>\n      <th>away_team</th>\n      <th>home_score</th>\n      <th>away_score</th>\n      <th>label</th>\n    </tr>\n  </thead>\n  <tbody>\n    <tr>\n      <th>0</th>\n      <td>Qatar</td>\n      <td>Ecuador</td>\n      <td>0.0</td>\n      <td>2.0</td>\n      <td>失败</td>\n    </tr>\n    <tr>\n      <th>1</th>\n      <td>England</td>\n      <td>IR Iran</td>\n      <td>6.0</td>\n      <td>2.0</td>\n      <td>胜利</td>\n    </tr>\n    <tr>\n      <th>2</th>\n      <td>United States</td>\n      <td>Wales</td>\n      <td>1.0</td>\n      <td>1.0</td>\n      <td>平局</td>\n    </tr>\n    <tr>\n      <th>3</th>\n      <td>Senegal</td>\n      <td>Netherlands</td>\n      <td>0.0</td>\n      <td>2.0</td>\n      <td>失败</td>\n    </tr>\n    <tr>\n      <th>4</th>\n      <td>France</td>\n      <td>Australia</td>\n      <td>4.0</td>\n      <td>1.0</td>\n      <td>胜利</td>\n    </tr>\n    <tr>\n      <th>5</th>\n      <td>Mexico</td>\n      <td>Poland</td>\n      <td>0.0</td>\n      <td>0.0</td>\n      <td>平局</td>\n    </tr>\n    <tr>\n      <th>6</th>\n      <td>Denmark</td>\n      <td>Tunisia</td>\n      <td>0.0</td>\n      <td>0.0</td>\n      <td>平局</td>\n    </tr>\n    <tr>\n      <th>7</th>\n      <td>Argentina</td>\n      <td>Saudi Arabia</td>\n      <td>1.0</td>\n      <td>2.0</td>\n      <td>失败</td>\n    </tr>\n    <tr>\n      <th>8</th>\n      <td>Belgium</td>\n      <td>Canada</td>\n      <td>1.0</td>\n      <td>0.0</td>\n      <td>胜利</td>\n    </tr>\n    <tr>\n      <th>9</th>\n      <td>Spain</td>\n      <td>Costa Rica</td>\n      <td>7.0</td>\n      <td>0.0</td>\n      <td>胜利</td>\n    </tr>\n    <tr>\n      <th>10</th>\n      <td>Germany</td>\n      <td>Japan</td>\n      <td>1.0</td>\n      <td>2.0</td>\n      <td>失败</td>\n    </tr>\n    <tr>\n      <th>11</th>\n      <td>Morocco</td>\n      <td>Croatia</td>\n      <td>0.0</td>\n      <td>0.0</td>\n      <td>平局</td>\n    </tr>\n  </tbody>\n</table>\n</div>"
     },
     "execution_count": 58,
     "metadata": {},
     "output_type": "execute_result"
    }
   ],
   "source": [
    "recent_col.loc[recent_col['home_score'] > recent_col['away_score'], 'label'] = '胜利'\n",
    "recent_col.loc[recent_col['home_score'] < recent_col['away_score'], 'label'] = '失败'\n",
    "recent_col.loc[recent_col['home_score'] == recent_col['away_score'], 'label'] = '平局'\n",
    "recent_col = recent_col.iloc[0:12,]       # 只要在本次比赛出现结果的球队\n",
    "recent_col"
   ],
   "metadata": {
    "collapsed": false,
    "pycharm": {
     "name": "#%%\n"
    }
   }
  },
  {
   "cell_type": "code",
   "execution_count": 62,
   "outputs": [
    {
     "data": {
      "text/plain": "         home_team away_team  home_score  away_score  Year\n0           France   Croatia           4           2  2018\n1          Belgium   England           2           0  2018\n2          Croatia   England           2           1  2018\n3           France   Belgium           1           0  2018\n4           Sweden   England           0           2  2018\n..             ...       ...         ...         ...   ...\n895      Argentina    France           1           0  1930\n896     Yugoslavia    Brazil           2           1  1930\n897        Romania      Peru           3           1  1930\n898  United States   Belgium           3           0  1930\n899         France    Mexico           4           1  1930\n\n[900 rows x 5 columns]",
      "text/html": "<div>\n<style scoped>\n    .dataframe tbody tr th:only-of-type {\n        vertical-align: middle;\n    }\n\n    .dataframe tbody tr th {\n        vertical-align: top;\n    }\n\n    .dataframe thead th {\n        text-align: right;\n    }\n</style>\n<table border=\"1\" class=\"dataframe\">\n  <thead>\n    <tr style=\"text-align: right;\">\n      <th></th>\n      <th>home_team</th>\n      <th>away_team</th>\n      <th>home_score</th>\n      <th>away_score</th>\n      <th>Year</th>\n    </tr>\n  </thead>\n  <tbody>\n    <tr>\n      <th>0</th>\n      <td>France</td>\n      <td>Croatia</td>\n      <td>4</td>\n      <td>2</td>\n      <td>2018</td>\n    </tr>\n    <tr>\n      <th>1</th>\n      <td>Belgium</td>\n      <td>England</td>\n      <td>2</td>\n      <td>0</td>\n      <td>2018</td>\n    </tr>\n    <tr>\n      <th>2</th>\n      <td>Croatia</td>\n      <td>England</td>\n      <td>2</td>\n      <td>1</td>\n      <td>2018</td>\n    </tr>\n    <tr>\n      <th>3</th>\n      <td>France</td>\n      <td>Belgium</td>\n      <td>1</td>\n      <td>0</td>\n      <td>2018</td>\n    </tr>\n    <tr>\n      <th>4</th>\n      <td>Sweden</td>\n      <td>England</td>\n      <td>0</td>\n      <td>2</td>\n      <td>2018</td>\n    </tr>\n    <tr>\n      <th>...</th>\n      <td>...</td>\n      <td>...</td>\n      <td>...</td>\n      <td>...</td>\n      <td>...</td>\n    </tr>\n    <tr>\n      <th>895</th>\n      <td>Argentina</td>\n      <td>France</td>\n      <td>1</td>\n      <td>0</td>\n      <td>1930</td>\n    </tr>\n    <tr>\n      <th>896</th>\n      <td>Yugoslavia</td>\n      <td>Brazil</td>\n      <td>2</td>\n      <td>1</td>\n      <td>1930</td>\n    </tr>\n    <tr>\n      <th>897</th>\n      <td>Romania</td>\n      <td>Peru</td>\n      <td>3</td>\n      <td>1</td>\n      <td>1930</td>\n    </tr>\n    <tr>\n      <th>898</th>\n      <td>United States</td>\n      <td>Belgium</td>\n      <td>3</td>\n      <td>0</td>\n      <td>1930</td>\n    </tr>\n    <tr>\n      <th>899</th>\n      <td>France</td>\n      <td>Mexico</td>\n      <td>4</td>\n      <td>1</td>\n      <td>1930</td>\n    </tr>\n  </tbody>\n</table>\n<p>900 rows × 5 columns</p>\n</div>"
     },
     "execution_count": 62,
     "metadata": {},
     "output_type": "execute_result"
    }
   ],
   "source": [
    "path = 'matches_1930_2018.csv'\n",
    "# 使用pandas读入\n",
    "data = pd.read_csv(path)                            # 读取文件中所有数据\n",
    "home_team_name = data[['home_team']]                     # 主队\n",
    "away_team_name = data[['away_team']]                     # 客队\n",
    "home_team_score = data[['home_score']]\n",
    "away_team_score = data[['away_score']]\n",
    "compete_year = data[['Year']]\n",
    "df_col = pd.concat([home_team_name,away_team_name,home_team_score,away_team_score,compete_year], axis=1,sort=True)\n",
    "df_col"
   ],
   "metadata": {
    "collapsed": false,
    "pycharm": {
     "name": "#%%\n"
    }
   }
  },
  {
   "cell_type": "code",
   "execution_count": 70,
   "outputs": [
    {
     "data": {
      "text/plain": "['France',\n 'Belgium',\n 1,\n 0,\n 2018,\n 'Sweden',\n 'England',\n 0,\n 2,\n 2018,\n 'Russia',\n 'Croatia',\n 2,\n 2,\n 2018,\n 'Uruguay',\n 'France',\n 0,\n 2,\n 2018,\n 'Brazil',\n 'Belgium',\n 1,\n 2,\n 2018,\n 'Sweden',\n 'Switzerland',\n 1,\n 0,\n 2018,\n 'Colombia',\n 'England',\n 1,\n 1,\n 2018,\n 'Brazil',\n 'Mexico',\n 2,\n 0,\n 2018,\n 'Belgium',\n 'Japan',\n 3,\n 2,\n 2018,\n 'Spain',\n 'Russia',\n 1,\n 1,\n 2018,\n 'Croatia',\n 'Denmark',\n 1,\n 1,\n 2018,\n 'France',\n 'Argentina',\n 4,\n 3,\n 2018,\n 'Uruguay',\n 'Portugal',\n 2,\n 1,\n 2018,\n 'Japan',\n 'Poland',\n 0,\n 1,\n 2018,\n 'Senegal',\n 'Colombia',\n 0,\n 1,\n 2018,\n 'England',\n 'Belgium',\n 0,\n 1,\n 2018,\n 'Panama',\n 'Tunisia',\n 1,\n 2,\n 2018,\n 'Korea Republic',\n 'Germany',\n 2,\n 0,\n 2018,\n 'Mexico',\n 'Sweden',\n 0,\n 3,\n 2018,\n 'Switzerland',\n 'Costa Rica',\n 2,\n 2,\n 2018,\n 'Serbia',\n 'Brazil',\n 0,\n 2,\n 2018,\n 'Australia',\n 'Peru',\n 0,\n 2,\n 2018,\n 'Denmark',\n 'France',\n 0,\n 0,\n 2018,\n 'Iceland',\n 'Croatia',\n 1,\n 2,\n 2018,\n 'Nigeria',\n 'Argentina',\n 1,\n 2,\n 2018,\n 'Saudi Arabia',\n 'Egypt',\n 2,\n 1,\n 2018,\n 'Uruguay',\n 'Russia',\n 3,\n 0,\n 2018,\n 'Spain',\n 'Morocco',\n 2,\n 2,\n 2018,\n 'IR Iran',\n 'Portugal',\n 1,\n 1,\n 2018,\n 'England',\n 'Panama',\n 6,\n 1,\n 2018,\n 'Japan',\n 'Senegal',\n 2,\n 2,\n 2018,\n 'Poland',\n 'Colombia',\n 0,\n 3,\n 2018,\n 'Belgium',\n 'Tunisia',\n 5,\n 2,\n 2018,\n 'Korea Republic',\n 'Mexico',\n 1,\n 2,\n 2018,\n 'Germany',\n 'Sweden',\n 2,\n 1,\n 2018,\n 'Brazil',\n 'Costa Rica',\n 2,\n 0,\n 2018,\n 'Nigeria',\n 'Iceland',\n 2,\n 0,\n 2018,\n 'Serbia',\n 'Switzerland',\n 1,\n 2,\n 2018,\n 'Denmark',\n 'Australia',\n 1,\n 1,\n 2018,\n 'France',\n 'Peru',\n 1,\n 0,\n 2018,\n 'Argentina',\n 'Croatia',\n 0,\n 3,\n 2018,\n 'Portugal',\n 'Morocco',\n 1,\n 0,\n 2018,\n 'Uruguay',\n 'Saudi Arabia',\n 1,\n 0,\n 2018,\n 'IR Iran',\n 'Spain',\n 0,\n 1,\n 2018,\n 'Colombia',\n 'Japan',\n 1,\n 2,\n 2018,\n 'Poland',\n 'Senegal',\n 1,\n 2,\n 2018,\n 'Russia',\n 'Egypt',\n 3,\n 1,\n 2018,\n 'Sweden',\n 'Korea Republic',\n 1,\n 0,\n 2018,\n 'Belgium',\n 'Panama',\n 3,\n 0,\n 2018,\n 'Tunisia',\n 'England',\n 1,\n 2,\n 2018,\n 'Costa Rica',\n 'Serbia',\n 0,\n 1,\n 2018,\n 'Germany',\n 'Mexico',\n 0,\n 1,\n 2018,\n 'Brazil',\n 'Switzerland',\n 1,\n 1,\n 2018,\n 'France',\n 'Australia',\n 2,\n 1,\n 2018,\n 'Argentina',\n 'Iceland',\n 1,\n 1,\n 2018,\n 'Peru',\n 'Denmark',\n 0,\n 1,\n 2018,\n 'Croatia',\n 'Nigeria',\n 2,\n 0,\n 2018,\n 'Egypt',\n 'Uruguay',\n 0,\n 1,\n 2018,\n 'Morocco',\n 'IR Iran',\n 0,\n 1,\n 2018,\n 'Portugal',\n 'Spain',\n 3,\n 3,\n 2018,\n 'Russia',\n 'Saudi Arabia',\n 5,\n 0,\n 2018,\n 'Germany',\n 'Argentina',\n 1,\n 0,\n 2014,\n 'Brazil',\n 'Netherlands',\n 0,\n 3,\n 2014,\n 'Netherlands',\n 'Argentina',\n 0,\n 0,\n 2014,\n 'Brazil',\n 'Germany',\n 1,\n 7,\n 2014,\n 'Argentina',\n 'Belgium',\n 1,\n 0,\n 2014,\n 'Netherlands',\n 'Costa Rica',\n 0,\n 0,\n 2014,\n 'France',\n 'Germany',\n 0,\n 1,\n 2014,\n 'Brazil',\n 'Colombia',\n 2,\n 1,\n 2014,\n 'Argentina',\n 'Switzerland',\n 1,\n 0,\n 2014,\n 'Belgium',\n 'United States',\n 2,\n 1,\n 2014,\n 'France',\n 'Nigeria',\n 2,\n 0,\n 2014,\n 'Germany',\n 'Algeria',\n 2,\n 1,\n 2014,\n 'Netherlands',\n 'Mexico',\n 2,\n 1,\n 2014,\n 'Costa Rica',\n 'Greece',\n 1,\n 1,\n 2014,\n 'Brazil',\n 'Chile',\n 1,\n 1,\n 2014,\n 'Colombia',\n 'Uruguay',\n 2,\n 0,\n 2014,\n 'United States',\n 'Germany',\n 0,\n 1,\n 2014,\n 'Portugal',\n 'Ghana',\n 2,\n 1,\n 2014,\n 'Korea Republic',\n 'Belgium',\n 0,\n 1,\n 2014,\n 'Algeria',\n 'Russia',\n 1,\n 1,\n 2014,\n 'Bosnia and Herzegovina',\n 'IR Iran',\n 3,\n 1,\n 2014,\n 'Nigeria',\n 'Argentina',\n 2,\n 3,\n 2014,\n 'Honduras',\n 'Switzerland',\n 0,\n 3,\n 2014,\n 'Ecuador',\n 'France',\n 0,\n 0,\n 2014,\n 'Costa Rica',\n 'England',\n 0,\n 0,\n 2014,\n 'Italy',\n 'Uruguay',\n 0,\n 1,\n 2014,\n 'Japan',\n 'Colombia',\n 1,\n 4,\n 2014,\n 'Greece',\n \"Côte d'Ivoire\",\n 2,\n 1,\n 2014,\n 'Australia',\n 'Spain',\n 0,\n 3,\n 2014,\n 'Netherlands',\n 'Chile',\n 2,\n 0,\n 2014,\n 'Croatia',\n 'Mexico',\n 1,\n 3,\n 2014,\n 'Cameroon',\n 'Brazil',\n 1,\n 4,\n 2014,\n 'Belgium',\n 'Russia',\n 1,\n 0,\n 2014,\n 'Korea Republic',\n 'Algeria',\n 2,\n 4,\n 2014,\n 'United States',\n 'Portugal',\n 2,\n 2,\n 2014,\n 'Argentina',\n 'IR Iran',\n 1,\n 0,\n 2014,\n 'Germany',\n 'Ghana',\n 2,\n 2,\n 2014,\n 'Nigeria',\n 'Bosnia and Herzegovina',\n 1,\n 0,\n 2014,\n 'Italy',\n 'Costa Rica',\n 0,\n 1,\n 2014,\n 'Switzerland',\n 'France',\n 2,\n 5,\n 2014,\n 'Honduras',\n 'Ecuador',\n 1,\n 2,\n 2014,\n 'Colombia',\n \"Côte d'Ivoire\",\n 2,\n 1,\n 2014,\n 'Uruguay',\n 'England',\n 2,\n 1,\n 2014,\n 'Japan',\n 'Greece',\n 0,\n 0,\n 2014,\n 'Australia',\n 'Netherlands',\n 2,\n 3,\n 2014,\n 'Spain',\n 'Chile',\n 0,\n 2,\n 2014,\n 'Cameroon',\n 'Croatia',\n 0,\n 4,\n 2014,\n 'Belgium',\n 'Algeria',\n 2,\n 1,\n 2014,\n 'Brazil',\n 'Mexico',\n 0,\n 0,\n 2014,\n 'Russia',\n 'Korea Republic',\n 1,\n 1,\n 2014,\n 'Germany',\n 'Portugal',\n 4,\n 0,\n 2014,\n 'IR Iran',\n 'Nigeria',\n 0,\n 0,\n 2014,\n 'Ghana',\n 'United States',\n 1,\n 2,\n 2014,\n 'Switzerland',\n 'Ecuador',\n 2,\n 1,\n 2014,\n 'France',\n 'Honduras',\n 3,\n 0,\n 2014,\n 'Argentina',\n 'Bosnia and Herzegovina',\n 2,\n 1,\n 2014,\n 'Colombia',\n 'Greece',\n 3,\n 0,\n 2014,\n 'Uruguay',\n 'Costa Rica',\n 1,\n 3,\n 2014,\n 'England',\n 'Italy',\n 1,\n 2,\n 2014,\n \"Côte d'Ivoire\",\n 'Japan',\n 2,\n 1,\n 2014,\n 'Mexico',\n 'Cameroon',\n 1,\n 0,\n 2014,\n 'Spain',\n 'Netherlands',\n 1,\n 5,\n 2014,\n 'Chile',\n 'Australia',\n 3,\n 1,\n 2014,\n 'Brazil',\n 'Croatia',\n 3,\n 1,\n 2014,\n 'Netherlands',\n 'Spain',\n 0,\n 1,\n 2010,\n 'Uruguay',\n 'Germany',\n 2,\n 3,\n 2010,\n 'Germany',\n 'Spain',\n 0,\n 1,\n 2010,\n 'Uruguay',\n 'Netherlands',\n 2,\n 3,\n 2010,\n 'Argentina',\n 'Germany',\n 0,\n 4,\n 2010,\n 'Paraguay',\n 'Spain',\n 0,\n 1,\n 2010,\n 'Netherlands',\n 'Brazil',\n 2,\n 1,\n 2010,\n 'Uruguay',\n 'Ghana',\n 1,\n 1,\n 2010,\n 'Paraguay',\n 'Japan',\n 0,\n 0,\n 2010,\n 'Spain',\n 'Portugal',\n 1,\n 0,\n 2010,\n 'Netherlands',\n 'Slovakia',\n 2,\n 1,\n 2010,\n 'Brazil',\n 'Chile',\n 3,\n 0,\n 2010,\n 'Germany',\n 'England',\n 4,\n 1,\n 2010,\n 'Argentina',\n 'Mexico',\n 3,\n 1,\n 2010,\n 'Uruguay',\n 'Korea Republic',\n 2,\n 1,\n 2010,\n 'United States',\n 'Ghana',\n 1,\n 2,\n 2010,\n 'Portugal',\n 'Brazil',\n 0,\n 0,\n 2010,\n 'Korea DPR',\n \"Côte d'Ivoire\",\n 0,\n 3,\n 2010,\n 'Chile',\n 'Spain',\n 1,\n 2,\n 2010,\n 'Switzerland',\n 'Honduras',\n 0,\n 0,\n 2010,\n 'Paraguay',\n 'New Zealand',\n 0,\n 0,\n 2010,\n 'Slovakia',\n 'Italy',\n 3,\n 2,\n 2010,\n 'Denmark',\n 'Japan',\n 1,\n 3,\n 2010,\n 'Cameroon',\n 'Netherlands',\n 1,\n 2,\n 2010,\n 'Slovenia',\n 'England',\n 0,\n 1,\n 2010,\n 'United States',\n 'Algeria',\n 1,\n 0,\n 2010,\n 'Ghana',\n 'Germany',\n 0,\n 1,\n 2010,\n 'Australia',\n 'Serbia',\n 2,\n 1,\n 2010,\n 'Mexico',\n 'Uruguay',\n 0,\n 1,\n 2010,\n 'France',\n 'South Africa',\n 1,\n 2,\n 2010,\n 'Nigeria',\n 'Korea Republic',\n 2,\n 2,\n 2010,\n 'Greece',\n 'Argentina',\n 0,\n 2,\n 2010,\n 'Portugal',\n 'Korea DPR',\n 7,\n 0,\n 2010,\n 'Chile',\n 'Switzerland',\n 1,\n 0,\n 2010,\n 'Spain',\n 'Honduras',\n 2,\n 0,\n 2010,\n 'Slovakia',\n 'Paraguay',\n 0,\n 2,\n 2010,\n 'Italy',\n 'New Zealand',\n 1,\n 1,\n 2010,\n 'Brazil',\n \"Côte d'Ivoire\",\n 3,\n 1,\n 2010,\n 'Netherlands',\n 'Japan',\n 1,\n 0,\n 2010,\n 'Ghana',\n 'Australia',\n 1,\n 1,\n 2010,\n 'Cameroon',\n 'Denmark',\n 1,\n 2,\n 2010,\n 'Germany',\n 'Serbia',\n 0,\n 1,\n 2010,\n 'Slovenia',\n 'United States',\n 2,\n 2,\n 2010,\n 'England',\n 'Algeria',\n 0,\n 0,\n 2010,\n 'Argentina',\n 'Korea Republic',\n 4,\n 1,\n 2010,\n 'Greece',\n 'Nigeria',\n 2,\n 1,\n 2010,\n 'France',\n 'Mexico',\n 0,\n 2,\n 2010,\n 'Honduras',\n 'Chile',\n 0,\n 1,\n 2010,\n 'Spain',\n 'Switzerland',\n 0,\n 1,\n 2010,\n 'South Africa',\n 'Uruguay',\n 0,\n 3,\n 2010,\n 'New Zealand',\n 'Slovakia',\n 1,\n 1,\n 2010,\n \"Côte d'Ivoire\",\n 'Portugal',\n 0,\n 0,\n 2010,\n 'Brazil',\n 'Korea DPR',\n 2,\n 1,\n 2010,\n 'Netherlands',\n 'Denmark',\n 2,\n 0,\n 2010,\n 'Japan',\n 'Cameroon',\n 1,\n 0,\n 2010,\n 'Italy',\n 'Paraguay',\n 1,\n 1,\n 2010,\n 'Algeria',\n 'Slovenia',\n 0,\n 1,\n 2010,\n 'Serbia',\n 'Ghana',\n 0,\n 1,\n 2010,\n 'Germany',\n 'Australia',\n 4,\n 0,\n 2010,\n 'Korea Republic',\n 'Greece',\n 2,\n 0,\n 2010,\n 'Argentina',\n 'Nigeria',\n 1,\n 0,\n 2010,\n 'England',\n 'United States',\n 1,\n 1,\n 2010,\n 'South Africa',\n 'Mexico',\n 1,\n 1,\n 2010,\n 'Uruguay',\n 'France',\n 0,\n 0,\n 2010,\n 'Italy',\n 'France',\n 1,\n 1,\n 2006,\n 'Germany',\n 'Portugal',\n 3,\n 1,\n 2006,\n 'Portugal',\n 'France',\n 0,\n 1,\n 2006,\n 'Germany',\n 'Italy',\n 0,\n 2,\n 2006,\n 'England',\n 'Portugal',\n 0,\n 0,\n 2006,\n 'Brazil',\n 'France',\n 0,\n 1,\n 2006,\n 'Germany',\n 'Argentina',\n 1,\n 1,\n 2006,\n 'Italy',\n 'Ukraine',\n 3,\n 0,\n 2006,\n 'Brazil',\n 'Ghana',\n 3,\n 0,\n 2006,\n 'Spain',\n 'France',\n 1,\n 3,\n 2006,\n 'Italy',\n 'Australia',\n 1,\n 0,\n 2006,\n ...]"
     },
     "execution_count": 70,
     "metadata": {},
     "output_type": "execute_result"
    }
   ],
   "source": [
    "import pandas as pd\n",
    "import numpy as np\n",
    "data = df_col.loc[3:,]\n",
    "data_array = np.array(data.stack()) # 首先将pandas读取的数据转化为array\n",
    "data_list = data_array.tolist() # 然后转化为list形式\n",
    "data_list"
   ],
   "metadata": {
    "collapsed": false,
    "pycharm": {
     "name": "#%%\n"
    }
   }
  },
  {
   "cell_type": "code",
   "execution_count": 73,
   "outputs": [
    {
     "name": "stdout",
     "output_type": "stream",
     "text": [
      "a 1\n",
      "b 2\n",
      "c 3\n"
     ]
    }
   ],
   "source": [
    "a = {'a':1,'b':2,'c':3}\n",
    "for i,j in a.items():\n",
    "    print(i,j)"
   ],
   "metadata": {
    "collapsed": false,
    "pycharm": {
     "name": "#%%\n"
    }
   }
  },
  {
   "cell_type": "code",
   "execution_count": null,
   "outputs": [],
   "source": [],
   "metadata": {
    "collapsed": false,
    "pycharm": {
     "name": "#%%\n"
    }
   }
  }
 ],
 "metadata": {
  "kernelspec": {
   "display_name": "Python 3",
   "language": "python",
   "name": "python3"
  },
  "language_info": {
   "codemirror_mode": {
    "name": "ipython",
    "version": 2
   },
   "file_extension": ".py",
   "mimetype": "text/x-python",
   "name": "python",
   "nbconvert_exporter": "python",
   "pygments_lexer": "ipython2",
   "version": "2.7.6"
  }
 },
 "nbformat": 4,
 "nbformat_minor": 0
}